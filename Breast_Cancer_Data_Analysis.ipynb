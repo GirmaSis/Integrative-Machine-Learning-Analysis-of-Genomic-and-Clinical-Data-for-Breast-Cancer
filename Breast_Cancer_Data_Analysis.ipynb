{
 "cells": [
  {
   "cell_type": "code",
   "execution_count": null,
   "id": "a3a5cecf-15fa-4986-aacf-106446439cbf",
   "metadata": {},
   "outputs": [],
   "source": [
    "# Import necessary libraries\n",
    "import pandas as pd\n",
    "\n",
    "# Load the dataset\n",
    "file_path = 'dataset/METABRIC_RNA_Mutation.csv'  # Dataset source\n",
    "data = pd.read_csv(file_path)\n",
    "\n",
    "# Display basic information about the datasets\n",
    "print(\"Dataset Shape:\", data.shape)\n",
    "print(\"\\nFirst 5 Rows:\\n\", data.head())\n",
    "print(\"\\nData Types:\\n\", data.dtypes)\n",
    "print(\"\\nBasic Statistics:\\n\", data.describe())\n",
    "print(\"\\nMissing Values:\\n\", data.isnull().sum())\n"
   ]
  },
  {
   "cell_type": "code",
   "execution_count": null,
   "id": "87a21ec6-7541-4f2f-949d-4f1d07363fc6",
   "metadata": {},
   "outputs": [],
   "source": []
  }
 ],
 "metadata": {
  "kernelspec": {
   "display_name": "Python 3 (ipykernel)",
   "language": "python",
   "name": "python3"
  },
  "language_info": {
   "codemirror_mode": {
    "name": "ipython",
    "version": 3
   },
   "file_extension": ".py",
   "mimetype": "text/x-python",
   "name": "python",
   "nbconvert_exporter": "python",
   "pygments_lexer": "ipython3",
   "version": "3.9.11"
  }
 },
 "nbformat": 4,
 "nbformat_minor": 5
}
