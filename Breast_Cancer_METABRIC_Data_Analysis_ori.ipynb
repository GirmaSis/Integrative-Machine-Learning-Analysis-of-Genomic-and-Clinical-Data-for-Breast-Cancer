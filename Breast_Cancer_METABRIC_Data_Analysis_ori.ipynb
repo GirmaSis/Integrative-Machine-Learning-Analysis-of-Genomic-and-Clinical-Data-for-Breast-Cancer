{
 "cells": [
  {
   "cell_type": "code",
   "execution_count": 2,
   "id": "53b14456",
   "metadata": {},
   "outputs": [],
   "source": [
    "# Import necessary libraries\n",
    "import pandas as pd\n",
    "import matplotlib.pyplot as plt\n",
    "import seaborn as sns\n"
   ]
  },
  {
   "cell_type": "code",
   "execution_count": null,
   "id": "af57675e",
   "metadata": {},
   "outputs": [],
   "source": [
    "# Load the dataset\n",
    "file_path = 'dataset/METABRIC_RNA_Mutation_without_Mutation_Data_3.csv'  # Dataset source\n",
    "data = pd.read_csv(file_path)\n",
    "data['hormone_therapy'].info()\n",
    "data['hormone_therapy'].describe()\n",
    "#data.head(3)\n"
   ]
  },
  {
   "cell_type": "code",
   "execution_count": null,
   "id": "b4a0f81e",
   "metadata": {},
   "outputs": [],
   "source": [
    "'''\n",
    "columns_to_show = ['chemotherapy', 'hormone_therapy']\n",
    "# loc accessor to display values\n",
    "data.loc[:, columns_to_show]\n",
    "'''\n",
    "print(data[['chemotherapy', 'hormone_therapy']])\n",
    "\n",
    "print (data['chemotherapy'].describe())\n",
    "print(data['chemotherapy'].value_counts())\n",
    "\n",
    "print (data.columns)\n",
    "\n",
    "print (\"\\nShape of data: \", data.shape)\n"
   ]
  },
  {
   "cell_type": "code",
   "execution_count": null,
   "id": "f9fda2bc",
   "metadata": {},
   "outputs": [],
   "source": [
    "print (\"\\nMissing values: \", data.isnull().sum().values.sum())\n",
    "\n",
    "print (\"\\All Columns: \", data.columns.tolist())\n",
    "\n",
    "print (\"\\nUnique values: \\n\", data.nunique()) # Number of unique values in each column\n",
    "\n"
   ]
  },
  {
   "cell_type": "code",
   "execution_count": null,
   "id": "d9d81f3a",
   "metadata": {},
   "outputs": [],
   "source": [
    "# Check for categorical variables and confirm the absence of missing values across all features\n",
    "categorical_vars = data.select_dtypes(include=['object']).columns\n",
    "missing_values_total = data.isnull().sum().sum()\n",
    "\n",
    "print(categorical_vars) # Print categorical variables\n",
    "\n",
    "print(\"\\nNumber of missing values across all categorical variables: \", missing_values_total) \n"
   ]
  },
  {
   "cell_type": "code",
   "execution_count": null,
   "id": "4dcbd535",
   "metadata": {},
   "outputs": [],
   "source": [
    "\n",
    "# Check for categorical variables and confirm the absence of missing values across all features\n",
    "categorical_vars = data.select_dtypes(include=['object']).columns\n",
    "missing_values_total = data.isnull().sum().sum()\n",
    "\n",
    "(categorical_vars, missing_values_total)\n"
   ]
  },
  {
   "cell_type": "code",
   "execution_count": 40,
   "id": "ab3f34fb",
   "metadata": {},
   "outputs": [],
   "source": [
    "from sklearn.preprocessing import LabelEncoder, StandardScaler\n",
    "\n",
    "# Initialize LabelEncoder\n",
    "le = LabelEncoder()\n",
    "\n",
    "# Apply Label Encoding for categorical variables\n",
    "for col in categorical_vars:\n",
    "    data[col] = le.fit_transform(data[col])\n",
    "\n",
    "# Now, standardize the numerical features\n",
    "# Excluding 'patient_id' as it is an identifier\n",
    "numerical_features = data.select_dtypes(include=['int64', 'float64']).columns.drop('patient_id')\n",
    "\n",
    "# Initialize StandardScaler\n",
    "scaler = StandardScaler()\n",
    "\n",
    "# Standardize the numerical features\n",
    "data[numerical_features] = scaler.fit_transform(data[numerical_features])\n",
    "\n",
    "dataPrep = data.copy() # Create a copy of the dataframe\n",
    "# Display the first few rows to confirm changes\n",
    "dataPrep.head()\n",
    "dataPrep.to_csv('dataset/AfterPreprocessing_4.csv', index=False)\n"
   ]
  },
  {
   "cell_type": "code",
   "execution_count": 45,
   "id": "f0fab21b",
   "metadata": {},
   "outputs": [
    {
     "name": "stdout",
     "output_type": "stream",
     "text": [
      "<class 'pandas.core.frame.DataFrame'>\n",
      "RangeIndex: 1904 entries, 0 to 1903\n",
      "Columns: 520 entries, patient_id to ugt2b7\n",
      "dtypes: float64(519), int64(1)\n",
      "memory usage: 7.6 MB\n"
     ]
    }
   ],
   "source": [
    "dataPrep.info()"
   ]
  },
  {
   "cell_type": "code",
   "execution_count": null,
   "id": "bc27869f",
   "metadata": {},
   "outputs": [],
   "source": []
  }
 ],
 "metadata": {
  "kernelspec": {
   "display_name": "Python 3 (ipykernel)",
   "language": "python",
   "name": "python3"
  },
  "language_info": {
   "codemirror_mode": {
    "name": "ipython",
    "version": 3
   },
   "file_extension": ".py",
   "mimetype": "text/x-python",
   "name": "python",
   "nbconvert_exporter": "python",
   "pygments_lexer": "ipython3",
   "version": "3.9.11"
  }
 },
 "nbformat": 4,
 "nbformat_minor": 5
}
