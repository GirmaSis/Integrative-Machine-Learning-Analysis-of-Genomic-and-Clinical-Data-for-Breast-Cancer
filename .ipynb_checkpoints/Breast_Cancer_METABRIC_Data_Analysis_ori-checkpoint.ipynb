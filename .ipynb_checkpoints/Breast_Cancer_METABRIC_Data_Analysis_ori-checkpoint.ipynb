{
 "cells": [
  {
   "cell_type": "code",
   "execution_count": 2,
   "id": "53b14456",
   "metadata": {},
   "outputs": [],
   "source": [
    "# Import necessary libraries\n",
    "import pandas as pd\n",
    "import matplotlib.pyplot as plt\n",
    "import seaborn as sns\n"
   ]
  },
  {
   "cell_type": "code",
   "execution_count": 12,
   "id": "af57675e",
   "metadata": {},
   "outputs": [
    {
     "name": "stdout",
     "output_type": "stream",
     "text": [
      "<class 'pandas.core.series.Series'>\n",
      "RangeIndex: 1904 entries, 0 to 1903\n",
      "Series name: hormone_therapy\n",
      "Non-Null Count  Dtype\n",
      "--------------  -----\n",
      "1904 non-null   int64\n",
      "dtypes: int64(1)\n",
      "memory usage: 15.0 KB\n"
     ]
    },
    {
     "data": {
      "text/plain": [
       "count    1904.000000\n",
       "mean        0.616597\n",
       "std         0.486343\n",
       "min         0.000000\n",
       "25%         0.000000\n",
       "50%         1.000000\n",
       "75%         1.000000\n",
       "max         1.000000\n",
       "Name: hormone_therapy, dtype: float64"
      ]
     },
     "execution_count": 12,
     "metadata": {},
     "output_type": "execute_result"
    }
   ],
   "source": [
    "# Load the dataset\n",
    "file_path = 'dataset/METABRIC_RNA_Mutation_without_Mutation_Data_3.csv'  # Dataset source\n",
    "data = pd.read_csv(file_path)\n",
    "data['hormone_therapy'].info()\n",
    "data['hormone_therapy'].describe()\n",
    "#data.head(3)\n"
   ]
  },
  {
   "cell_type": "code",
   "execution_count": null,
   "id": "b4a0f81e",
   "metadata": {},
   "outputs": [],
   "source": []
  }
 ],
 "metadata": {
  "kernelspec": {
   "display_name": "Python 3 (ipykernel)",
   "language": "python",
   "name": "python3"
  },
  "language_info": {
   "codemirror_mode": {
    "name": "ipython",
    "version": 3
   },
   "file_extension": ".py",
   "mimetype": "text/x-python",
   "name": "python",
   "nbconvert_exporter": "python",
   "pygments_lexer": "ipython3",
   "version": "3.9.11"
  }
 },
 "nbformat": 4,
 "nbformat_minor": 5
}
